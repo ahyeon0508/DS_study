{
 "cells": [
  {
   "cell_type": "markdown",
   "id": "49536db4",
   "metadata": {},
   "source": [
    "데이터 출처 :https://www.kaggle.com/darinhawley/fifa-world-cup-goalscorers-19302018(참고, 데이터 수정)\n",
    "\n",
    "데이터 설명 : 1930 ~2018년도 월드컵 출전선수 골기록\n",
    "\n",
    "data url = https://raw.githubusercontent.com/Datamanim/datarepo/main/worldcup/worldcupgoals.csv\n",
    "\n",
    "출처 : 12주차 예상문제 (실기1유형 10문제) (이기적 스터디 카페 / 컴활,정보처리,빅분기) | 작성자 빅분기 실기조교"
   ]
  },
  {
   "cell_type": "code",
   "execution_count": 1,
   "id": "19bdd29a",
   "metadata": {},
   "outputs": [],
   "source": [
    "import pandas as pd\n",
    "\n",
    "df = pd.read_csv('https://raw.githubusercontent.com/Datamanim/datarepo/main/worldcup/worldcupgoals.csv')"
   ]
  },
  {
   "cell_type": "code",
   "execution_count": 2,
   "id": "dcca7dff",
   "metadata": {},
   "outputs": [
    {
     "data": {
      "text/html": [
       "<div>\n",
       "<style scoped>\n",
       "    .dataframe tbody tr th:only-of-type {\n",
       "        vertical-align: middle;\n",
       "    }\n",
       "\n",
       "    .dataframe tbody tr th {\n",
       "        vertical-align: top;\n",
       "    }\n",
       "\n",
       "    .dataframe thead th {\n",
       "        text-align: right;\n",
       "    }\n",
       "</style>\n",
       "<table border=\"1\" class=\"dataframe\">\n",
       "  <thead>\n",
       "    <tr style=\"text-align: right;\">\n",
       "      <th></th>\n",
       "      <th>Player</th>\n",
       "      <th>Goals</th>\n",
       "      <th>Years</th>\n",
       "      <th>Country</th>\n",
       "    </tr>\n",
       "  </thead>\n",
       "  <tbody>\n",
       "    <tr>\n",
       "      <th>0</th>\n",
       "      <td>Miroslav Klose</td>\n",
       "      <td>16</td>\n",
       "      <td>2002-2006-2010-2014</td>\n",
       "      <td>Germany</td>\n",
       "    </tr>\n",
       "    <tr>\n",
       "      <th>1</th>\n",
       "      <td>Ronaldo</td>\n",
       "      <td>15</td>\n",
       "      <td>1998-2002-2006</td>\n",
       "      <td>Brazil</td>\n",
       "    </tr>\n",
       "    <tr>\n",
       "      <th>2</th>\n",
       "      <td>Gerd Muller</td>\n",
       "      <td>14</td>\n",
       "      <td>1970-1974</td>\n",
       "      <td>Germany</td>\n",
       "    </tr>\n",
       "    <tr>\n",
       "      <th>3</th>\n",
       "      <td>Just Fontaine</td>\n",
       "      <td>13</td>\n",
       "      <td>1958</td>\n",
       "      <td>France</td>\n",
       "    </tr>\n",
       "    <tr>\n",
       "      <th>4</th>\n",
       "      <td>Pele</td>\n",
       "      <td>12</td>\n",
       "      <td>1958-1962-1966-1970</td>\n",
       "      <td>Brazil</td>\n",
       "    </tr>\n",
       "    <tr>\n",
       "      <th>...</th>\n",
       "      <td>...</td>\n",
       "      <td>...</td>\n",
       "      <td>...</td>\n",
       "      <td>...</td>\n",
       "    </tr>\n",
       "    <tr>\n",
       "      <th>1290</th>\n",
       "      <td>Josip Skoblar</td>\n",
       "      <td>1</td>\n",
       "      <td>1962</td>\n",
       "      <td>Yugoslavia</td>\n",
       "    </tr>\n",
       "    <tr>\n",
       "      <th>1291</th>\n",
       "      <td>Safet Susic</td>\n",
       "      <td>1</td>\n",
       "      <td>1982-1990</td>\n",
       "      <td>Yugoslavia</td>\n",
       "    </tr>\n",
       "    <tr>\n",
       "      <th>1292</th>\n",
       "      <td>Aleksandar Tirnanic</td>\n",
       "      <td>1</td>\n",
       "      <td>1930</td>\n",
       "      <td>Yugoslavia</td>\n",
       "    </tr>\n",
       "    <tr>\n",
       "      <th>1293</th>\n",
       "      <td>Djordje Vujadinovic</td>\n",
       "      <td>1</td>\n",
       "      <td>1930</td>\n",
       "      <td>Yugoslavia</td>\n",
       "    </tr>\n",
       "    <tr>\n",
       "      <th>1294</th>\n",
       "      <td>Branko Zebec</td>\n",
       "      <td>1</td>\n",
       "      <td>1954-1958</td>\n",
       "      <td>Yugoslavia</td>\n",
       "    </tr>\n",
       "  </tbody>\n",
       "</table>\n",
       "<p>1295 rows × 4 columns</p>\n",
       "</div>"
      ],
      "text/plain": [
       "                   Player  Goals                Years     Country\n",
       "0          Miroslav Klose     16  2002-2006-2010-2014     Germany\n",
       "1                 Ronaldo     15       1998-2002-2006      Brazil\n",
       "2             Gerd Muller     14            1970-1974     Germany\n",
       "3           Just Fontaine     13                 1958      France\n",
       "4                    Pele     12  1958-1962-1966-1970      Brazil\n",
       "...                   ...    ...                  ...         ...\n",
       "1290        Josip Skoblar      1                 1962  Yugoslavia\n",
       "1291          Safet Susic      1            1982-1990  Yugoslavia\n",
       "1292  Aleksandar Tirnanic      1                 1930  Yugoslavia\n",
       "1293  Djordje Vujadinovic      1                 1930  Yugoslavia\n",
       "1294         Branko Zebec      1            1954-1958  Yugoslavia\n",
       "\n",
       "[1295 rows x 4 columns]"
      ]
     },
     "execution_count": 2,
     "metadata": {},
     "output_type": "execute_result"
    }
   ],
   "source": [
    "df"
   ]
  },
  {
   "cell_type": "markdown",
   "id": "03fb02c6",
   "metadata": {},
   "source": [
    "## Q1.  주어진 전체 기간의 각 나라별 골득점수 상위 5개 국가와 그 득점수를 데이터프레임형태로 출력하라"
   ]
  },
  {
   "cell_type": "code",
   "execution_count": 3,
   "id": "7996c80d",
   "metadata": {},
   "outputs": [
    {
     "data": {
      "text/html": [
       "<div>\n",
       "<style scoped>\n",
       "    .dataframe tbody tr th:only-of-type {\n",
       "        vertical-align: middle;\n",
       "    }\n",
       "\n",
       "    .dataframe tbody tr th {\n",
       "        vertical-align: top;\n",
       "    }\n",
       "\n",
       "    .dataframe thead th {\n",
       "        text-align: right;\n",
       "    }\n",
       "</style>\n",
       "<table border=\"1\" class=\"dataframe\">\n",
       "  <thead>\n",
       "    <tr style=\"text-align: right;\">\n",
       "      <th></th>\n",
       "      <th>Goals</th>\n",
       "    </tr>\n",
       "    <tr>\n",
       "      <th>Country</th>\n",
       "      <th></th>\n",
       "    </tr>\n",
       "  </thead>\n",
       "  <tbody>\n",
       "    <tr>\n",
       "      <th>Brazil</th>\n",
       "      <td>228</td>\n",
       "    </tr>\n",
       "    <tr>\n",
       "      <th>Germany</th>\n",
       "      <td>226</td>\n",
       "    </tr>\n",
       "    <tr>\n",
       "      <th>Argentina</th>\n",
       "      <td>135</td>\n",
       "    </tr>\n",
       "    <tr>\n",
       "      <th>Italy</th>\n",
       "      <td>123</td>\n",
       "    </tr>\n",
       "    <tr>\n",
       "      <th>France</th>\n",
       "      <td>115</td>\n",
       "    </tr>\n",
       "  </tbody>\n",
       "</table>\n",
       "</div>"
      ],
      "text/plain": [
       "           Goals\n",
       "Country         \n",
       "Brazil       228\n",
       "Germany      226\n",
       "Argentina    135\n",
       "Italy        123\n",
       "France       115"
      ]
     },
     "execution_count": 3,
     "metadata": {},
     "output_type": "execute_result"
    }
   ],
   "source": [
    "df.groupby(['Country']).sum().sort_values(by='Goals', ascending=False)[:5]"
   ]
  },
  {
   "cell_type": "markdown",
   "id": "4942da5f",
   "metadata": {},
   "source": [
    "## Q2. 주어진 전체기간동안 골득점을 한 선수가 가장 많은 나라 상위 5개 국가와 그 선수 숫자를 데이터 프레임 형식으로 출력하라"
   ]
  },
  {
   "cell_type": "code",
   "execution_count": 4,
   "id": "6f9b56e9",
   "metadata": {},
   "outputs": [
    {
     "data": {
      "text/html": [
       "<div>\n",
       "<style scoped>\n",
       "    .dataframe tbody tr th:only-of-type {\n",
       "        vertical-align: middle;\n",
       "    }\n",
       "\n",
       "    .dataframe tbody tr th {\n",
       "        vertical-align: top;\n",
       "    }\n",
       "\n",
       "    .dataframe thead th {\n",
       "        text-align: right;\n",
       "    }\n",
       "</style>\n",
       "<table border=\"1\" class=\"dataframe\">\n",
       "  <thead>\n",
       "    <tr style=\"text-align: right;\">\n",
       "      <th></th>\n",
       "      <th>Goals</th>\n",
       "    </tr>\n",
       "  </thead>\n",
       "  <tbody>\n",
       "    <tr>\n",
       "      <th>Brazil</th>\n",
       "      <td>81</td>\n",
       "    </tr>\n",
       "    <tr>\n",
       "      <th>Germany</th>\n",
       "      <td>78</td>\n",
       "    </tr>\n",
       "    <tr>\n",
       "      <th>Italy</th>\n",
       "      <td>60</td>\n",
       "    </tr>\n",
       "    <tr>\n",
       "      <th>Argentina</th>\n",
       "      <td>59</td>\n",
       "    </tr>\n",
       "    <tr>\n",
       "      <th>France</th>\n",
       "      <td>58</td>\n",
       "    </tr>\n",
       "  </tbody>\n",
       "</table>\n",
       "</div>"
      ],
      "text/plain": [
       "           Goals\n",
       "Brazil        81\n",
       "Germany       78\n",
       "Italy         60\n",
       "Argentina     59\n",
       "France        58"
      ]
     },
     "execution_count": 4,
     "metadata": {},
     "output_type": "execute_result"
    }
   ],
   "source": [
    "pd.DataFrame(df['Country'].value_counts()).head().rename(columns={'Country': 'Goals'})"
   ]
  },
  {
   "cell_type": "markdown",
   "id": "bc7f7afb",
   "metadata": {},
   "source": [
    "## Q3. Years 컬럼은 년도 -년도 형식으로 구성되어있고, 각 년도는 4자리 숫자이다. 년도 표기가 4자리 숫자로 안된 케이스가 존재한다. 해당 건은 몇건인지 출력하라"
   ]
  },
  {
   "cell_type": "code",
   "execution_count": 5,
   "id": "dd779a84",
   "metadata": {},
   "outputs": [],
   "source": [
    "cnt = 0\n",
    "\n",
    "for i in df['Years'].str.split('-'):\n",
    "    for j in i:\n",
    "        if len(j) != 4:\n",
    "            cnt += 1"
   ]
  },
  {
   "cell_type": "code",
   "execution_count": 6,
   "id": "ad5f883e",
   "metadata": {},
   "outputs": [
    {
     "data": {
      "text/plain": [
       "45"
      ]
     },
     "execution_count": 6,
     "metadata": {},
     "output_type": "execute_result"
    }
   ],
   "source": [
    "cnt"
   ]
  },
  {
   "cell_type": "markdown",
   "id": "df7189ec",
   "metadata": {},
   "source": [
    "## Q4. Q3에서 발생한 예외 케이스를 제외한 데이터프레임을 df2라고 정의하고 데이터의 행의 숫자를 출력하라 "
   ]
  },
  {
   "cell_type": "code",
   "execution_count": 7,
   "id": "6c647180",
   "metadata": {},
   "outputs": [],
   "source": [
    "temp = []\n",
    "for idx, datas in enumerate(df['Years'].str.split('-')):\n",
    "    for data in datas:\n",
    "        if len(data) == 4:\n",
    "            temp.append(idx)\n",
    "            break"
   ]
  },
  {
   "cell_type": "code",
   "execution_count": 8,
   "id": "efa8a9d8",
   "metadata": {},
   "outputs": [],
   "source": [
    "df2 = df.iloc[temp]"
   ]
  },
  {
   "cell_type": "code",
   "execution_count": 9,
   "id": "29d61f53",
   "metadata": {},
   "outputs": [
    {
     "data": {
      "text/plain": [
       "1250"
      ]
     },
     "execution_count": 9,
     "metadata": {},
     "output_type": "execute_result"
    }
   ],
   "source": [
    "len(df2)"
   ]
  },
  {
   "cell_type": "markdown",
   "id": "5142197f",
   "metadata": {},
   "source": [
    "## Q5. 월드컵 출전횟수를 나타내는 'LenCup' 컬럼을 추가하고 4회 출전한 선수의 숫자를 구하여라"
   ]
  },
  {
   "cell_type": "code",
   "execution_count": 10,
   "id": "6ff1d929",
   "metadata": {},
   "outputs": [
    {
     "name": "stderr",
     "output_type": "stream",
     "text": [
      "<ipython-input-10-49c0cf448ce8>:1: SettingWithCopyWarning: \n",
      "A value is trying to be set on a copy of a slice from a DataFrame.\n",
      "Try using .loc[row_indexer,col_indexer] = value instead\n",
      "\n",
      "See the caveats in the documentation: https://pandas.pydata.org/pandas-docs/stable/user_guide/indexing.html#returning-a-view-versus-a-copy\n",
      "  df2['LenCup'] = df2['Years'].str.split('-').str.len()\n"
     ]
    }
   ],
   "source": [
    "df2['LenCup'] = df2['Years'].str.split('-').str.len()"
   ]
  },
  {
   "cell_type": "code",
   "execution_count": 11,
   "id": "afb57392",
   "metadata": {},
   "outputs": [
    {
     "data": {
      "text/html": [
       "<div>\n",
       "<style scoped>\n",
       "    .dataframe tbody tr th:only-of-type {\n",
       "        vertical-align: middle;\n",
       "    }\n",
       "\n",
       "    .dataframe tbody tr th {\n",
       "        vertical-align: top;\n",
       "    }\n",
       "\n",
       "    .dataframe thead th {\n",
       "        text-align: right;\n",
       "    }\n",
       "</style>\n",
       "<table border=\"1\" class=\"dataframe\">\n",
       "  <thead>\n",
       "    <tr style=\"text-align: right;\">\n",
       "      <th></th>\n",
       "      <th>Player</th>\n",
       "      <th>Goals</th>\n",
       "      <th>Years</th>\n",
       "      <th>Country</th>\n",
       "      <th>LenCup</th>\n",
       "    </tr>\n",
       "  </thead>\n",
       "  <tbody>\n",
       "    <tr>\n",
       "      <th>0</th>\n",
       "      <td>Miroslav Klose</td>\n",
       "      <td>16</td>\n",
       "      <td>2002-2006-2010-2014</td>\n",
       "      <td>Germany</td>\n",
       "      <td>4</td>\n",
       "    </tr>\n",
       "    <tr>\n",
       "      <th>1</th>\n",
       "      <td>Ronaldo</td>\n",
       "      <td>15</td>\n",
       "      <td>1998-2002-2006</td>\n",
       "      <td>Brazil</td>\n",
       "      <td>3</td>\n",
       "    </tr>\n",
       "    <tr>\n",
       "      <th>2</th>\n",
       "      <td>Gerd Muller</td>\n",
       "      <td>14</td>\n",
       "      <td>1970-1974</td>\n",
       "      <td>Germany</td>\n",
       "      <td>2</td>\n",
       "    </tr>\n",
       "    <tr>\n",
       "      <th>3</th>\n",
       "      <td>Just Fontaine</td>\n",
       "      <td>13</td>\n",
       "      <td>1958</td>\n",
       "      <td>France</td>\n",
       "      <td>1</td>\n",
       "    </tr>\n",
       "    <tr>\n",
       "      <th>4</th>\n",
       "      <td>Pele</td>\n",
       "      <td>12</td>\n",
       "      <td>1958-1962-1966-1970</td>\n",
       "      <td>Brazil</td>\n",
       "      <td>4</td>\n",
       "    </tr>\n",
       "    <tr>\n",
       "      <th>...</th>\n",
       "      <td>...</td>\n",
       "      <td>...</td>\n",
       "      <td>...</td>\n",
       "      <td>...</td>\n",
       "      <td>...</td>\n",
       "    </tr>\n",
       "    <tr>\n",
       "      <th>1290</th>\n",
       "      <td>Josip Skoblar</td>\n",
       "      <td>1</td>\n",
       "      <td>1962</td>\n",
       "      <td>Yugoslavia</td>\n",
       "      <td>1</td>\n",
       "    </tr>\n",
       "    <tr>\n",
       "      <th>1291</th>\n",
       "      <td>Safet Susic</td>\n",
       "      <td>1</td>\n",
       "      <td>1982-1990</td>\n",
       "      <td>Yugoslavia</td>\n",
       "      <td>2</td>\n",
       "    </tr>\n",
       "    <tr>\n",
       "      <th>1292</th>\n",
       "      <td>Aleksandar Tirnanic</td>\n",
       "      <td>1</td>\n",
       "      <td>1930</td>\n",
       "      <td>Yugoslavia</td>\n",
       "      <td>1</td>\n",
       "    </tr>\n",
       "    <tr>\n",
       "      <th>1293</th>\n",
       "      <td>Djordje Vujadinovic</td>\n",
       "      <td>1</td>\n",
       "      <td>1930</td>\n",
       "      <td>Yugoslavia</td>\n",
       "      <td>1</td>\n",
       "    </tr>\n",
       "    <tr>\n",
       "      <th>1294</th>\n",
       "      <td>Branko Zebec</td>\n",
       "      <td>1</td>\n",
       "      <td>1954-1958</td>\n",
       "      <td>Yugoslavia</td>\n",
       "      <td>2</td>\n",
       "    </tr>\n",
       "  </tbody>\n",
       "</table>\n",
       "<p>1250 rows × 5 columns</p>\n",
       "</div>"
      ],
      "text/plain": [
       "                   Player  Goals                Years     Country  LenCup\n",
       "0          Miroslav Klose     16  2002-2006-2010-2014     Germany       4\n",
       "1                 Ronaldo     15       1998-2002-2006      Brazil       3\n",
       "2             Gerd Muller     14            1970-1974     Germany       2\n",
       "3           Just Fontaine     13                 1958      France       1\n",
       "4                    Pele     12  1958-1962-1966-1970      Brazil       4\n",
       "...                   ...    ...                  ...         ...     ...\n",
       "1290        Josip Skoblar      1                 1962  Yugoslavia       1\n",
       "1291          Safet Susic      1            1982-1990  Yugoslavia       2\n",
       "1292  Aleksandar Tirnanic      1                 1930  Yugoslavia       1\n",
       "1293  Djordje Vujadinovic      1                 1930  Yugoslavia       1\n",
       "1294         Branko Zebec      1            1954-1958  Yugoslavia       2\n",
       "\n",
       "[1250 rows x 5 columns]"
      ]
     },
     "execution_count": 11,
     "metadata": {},
     "output_type": "execute_result"
    }
   ],
   "source": [
    "df2"
   ]
  },
  {
   "cell_type": "code",
   "execution_count": 12,
   "id": "79a6547b",
   "metadata": {},
   "outputs": [
    {
     "data": {
      "text/plain": [
       "16"
      ]
     },
     "execution_count": 12,
     "metadata": {},
     "output_type": "execute_result"
    }
   ],
   "source": [
    "len(df2[df2['LenCup'] == 4])"
   ]
  },
  {
   "cell_type": "markdown",
   "id": "2d50ad8c",
   "metadata": {},
   "source": [
    "## Q6. Yugoslavia 국가의 월드컵 출전횟수가 2회인 선수들의 숫자를 구하여라"
   ]
  },
  {
   "cell_type": "code",
   "execution_count": 13,
   "id": "06241a1d",
   "metadata": {},
   "outputs": [
    {
     "data": {
      "text/plain": [
       "7"
      ]
     },
     "execution_count": 13,
     "metadata": {},
     "output_type": "execute_result"
    }
   ],
   "source": [
    "len(df2[(df2['Country'] == 'Yugoslavia') & (df2['LenCup'] == 2)])"
   ]
  },
  {
   "cell_type": "markdown",
   "id": "4d66e219",
   "metadata": {},
   "source": [
    "## Q7. 2002년도에 출전한 전체 선수는 몇명인가?"
   ]
  },
  {
   "cell_type": "code",
   "execution_count": 14,
   "id": "9a83bd50",
   "metadata": {},
   "outputs": [],
   "source": [
    "cnt = 0\n",
    "for i in df2['Years'].str.split('-'):\n",
    "    if '2002' in i:\n",
    "        cnt += 1"
   ]
  },
  {
   "cell_type": "code",
   "execution_count": 15,
   "id": "df9df8f8",
   "metadata": {},
   "outputs": [
    {
     "data": {
      "text/plain": [
       "156"
      ]
     },
     "execution_count": 15,
     "metadata": {},
     "output_type": "execute_result"
    }
   ],
   "source": [
    "cnt"
   ]
  },
  {
   "cell_type": "markdown",
   "id": "d14c9f42",
   "metadata": {},
   "source": [
    "## Q8. 이름에 'carlos' 단어가 들어가는 선수의 숫자는 몇 명인가? (대, 소문자 구분 x)"
   ]
  },
  {
   "cell_type": "code",
   "execution_count": 16,
   "id": "e8258199",
   "metadata": {},
   "outputs": [
    {
     "data": {
      "text/plain": [
       "13"
      ]
     },
     "execution_count": 16,
     "metadata": {},
     "output_type": "execute_result"
    }
   ],
   "source": [
    "len(df2[df2['Player'].str.lower().str.contains('carlos')])"
   ]
  },
  {
   "cell_type": "markdown",
   "id": "be88b268",
   "metadata": {},
   "source": [
    "## Q9. 월드컵 출전 횟수가 1회뿐인 선수들 중에서 가장 많은 득점을 올렸던 선수는 누구인가?"
   ]
  },
  {
   "cell_type": "code",
   "execution_count": 17,
   "id": "ae2ae2b0",
   "metadata": {},
   "outputs": [
    {
     "data": {
      "text/plain": [
       "'Just Fontaine'"
      ]
     },
     "execution_count": 17,
     "metadata": {},
     "output_type": "execute_result"
    }
   ],
   "source": [
    "df2[df2['LenCup'] == 1].sort_values(by='Goals', ascending=False)['Player'].values[0]"
   ]
  },
  {
   "cell_type": "markdown",
   "id": "e6eefc4c",
   "metadata": {},
   "source": [
    "## Q10. 월드컵 출전횟수가 1회 뿐인 선수들이 가장 많은 국가는 어디인가?"
   ]
  },
  {
   "cell_type": "code",
   "execution_count": 18,
   "id": "9bed395b",
   "metadata": {},
   "outputs": [
    {
     "data": {
      "text/plain": [
       "'Brazil'"
      ]
     },
     "execution_count": 18,
     "metadata": {},
     "output_type": "execute_result"
    }
   ],
   "source": [
    "df2[df2['LenCup'] == 1].groupby('Country').size().sort_values(ascending=False).index[0]"
   ]
  }
 ],
 "metadata": {
  "kernelspec": {
   "display_name": "Python 3",
   "language": "python",
   "name": "python3"
  },
  "language_info": {
   "codemirror_mode": {
    "name": "ipython",
    "version": 3
   },
   "file_extension": ".py",
   "mimetype": "text/x-python",
   "name": "python",
   "nbconvert_exporter": "python",
   "pygments_lexer": "ipython3",
   "version": "3.8.8"
  }
 },
 "nbformat": 4,
 "nbformat_minor": 5
}
