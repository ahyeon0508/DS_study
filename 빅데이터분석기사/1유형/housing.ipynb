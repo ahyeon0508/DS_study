{
 "cells": [
  {
   "cell_type": "code",
   "execution_count": 1,
   "id": "66a7569f",
   "metadata": {},
   "outputs": [],
   "source": [
    "import pandas as pd"
   ]
  },
  {
   "cell_type": "code",
   "execution_count": 2,
   "id": "c4c29635",
   "metadata": {},
   "outputs": [],
   "source": [
    "df = pd.read_csv(\"data/housing.csv\")"
   ]
  },
  {
   "cell_type": "markdown",
   "id": "f01cf13f",
   "metadata": {},
   "source": [
    "- 주어진 데이터 첫번째 행 부터 순서대로 80%까지의 데이터를 추출 후 'total_bedrooms' 변수의 결측값(NA)을 'total_bedrooms' 변수의 중앙값으로 대체하고 대체 전의 'total_bedrooms' 변수 표준편차값과 대체 후의 'total_bedrooms' 변수 표준편차 값을 빼시오"
   ]
  },
  {
   "cell_type": "code",
   "execution_count": 3,
   "id": "884ffa1a",
   "metadata": {},
   "outputs": [],
   "source": [
    "temp_df = df[:int(len(df)*0.8)]"
   ]
  },
  {
   "cell_type": "code",
   "execution_count": 4,
   "id": "94b47198",
   "metadata": {},
   "outputs": [],
   "source": [
    "before_std = temp_df['total_bedrooms'].std()"
   ]
  },
  {
   "cell_type": "code",
   "execution_count": 5,
   "id": "0dd56acf",
   "metadata": {},
   "outputs": [],
   "source": [
    "temp_df_tb_median = temp_df['total_bedrooms'].median()"
   ]
  },
  {
   "cell_type": "code",
   "execution_count": 6,
   "id": "bd643bcf",
   "metadata": {},
   "outputs": [
    {
     "data": {
      "text/plain": [
       "436.0"
      ]
     },
     "execution_count": 6,
     "metadata": {},
     "output_type": "execute_result"
    }
   ],
   "source": [
    "temp_df_tb_median"
   ]
  },
  {
   "cell_type": "code",
   "execution_count": 7,
   "id": "6c1fd56b",
   "metadata": {},
   "outputs": [
    {
     "data": {
      "text/plain": [
       "159"
      ]
     },
     "execution_count": 7,
     "metadata": {},
     "output_type": "execute_result"
    }
   ],
   "source": [
    "temp_df['total_bedrooms'].isna().sum()"
   ]
  },
  {
   "cell_type": "code",
   "execution_count": 8,
   "id": "e2bd79fd",
   "metadata": {},
   "outputs": [
    {
     "name": "stderr",
     "output_type": "stream",
     "text": [
      "<ipython-input-8-2bacad06c90e>:1: SettingWithCopyWarning: \n",
      "A value is trying to be set on a copy of a slice from a DataFrame.\n",
      "Try using .loc[row_indexer,col_indexer] = value instead\n",
      "\n",
      "See the caveats in the documentation: https://pandas.pydata.org/pandas-docs/stable/user_guide/indexing.html#returning-a-view-versus-a-copy\n",
      "  temp_df['total_bedrooms'] = temp_df['total_bedrooms'].fillna(temp_df_tb_median)\n"
     ]
    }
   ],
   "source": [
    "temp_df['total_bedrooms'] = temp_df['total_bedrooms'].fillna(temp_df_tb_median)"
   ]
  },
  {
   "cell_type": "code",
   "execution_count": 9,
   "id": "52385c86",
   "metadata": {},
   "outputs": [
    {
     "data": {
      "text/plain": [
       "0"
      ]
     },
     "execution_count": 9,
     "metadata": {},
     "output_type": "execute_result"
    }
   ],
   "source": [
    "temp_df['total_bedrooms'].isna().sum()"
   ]
  },
  {
   "cell_type": "code",
   "execution_count": 10,
   "id": "de5271a7",
   "metadata": {},
   "outputs": [],
   "source": [
    "after_std = temp_df['total_bedrooms'].std()"
   ]
  },
  {
   "cell_type": "code",
   "execution_count": 11,
   "id": "3beed0a6",
   "metadata": {
    "scrolled": true
   },
   "outputs": [
    {
     "data": {
      "text/plain": [
       "1.975147291645726"
      ]
     },
     "execution_count": 11,
     "metadata": {},
     "output_type": "execute_result"
    }
   ],
   "source": [
    "before_std - after_std"
   ]
  }
 ],
 "metadata": {
  "kernelspec": {
   "display_name": "Python 3",
   "language": "python",
   "name": "python3"
  },
  "language_info": {
   "codemirror_mode": {
    "name": "ipython",
    "version": 3
   },
   "file_extension": ".py",
   "mimetype": "text/x-python",
   "name": "python",
   "nbconvert_exporter": "python",
   "pygments_lexer": "ipython3",
   "version": "3.8.8"
  }
 },
 "nbformat": 4,
 "nbformat_minor": 5
}
