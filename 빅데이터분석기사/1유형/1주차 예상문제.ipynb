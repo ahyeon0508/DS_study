{
 "cells": [
  {
   "cell_type": "markdown",
   "id": "5d1004c3",
   "metadata": {},
   "source": [
    "# 1주차 예상문제 1"
   ]
  },
  {
   "cell_type": "markdown",
   "id": "a8540d6e",
   "metadata": {},
   "source": [
    "데이터 출처 : https://data.kma.go.kr/cmmn/static/staticPage.do?page=intro\n",
    "\n",
    "데이터 설명 : 2020년도 이화동(서울) , 수영동(부산)의 시간단위의 기온과 강수량\n",
    "\n",
    "데이터 url : https://raw.githubusercontent.com/Datamanim/datarepo/main/weather/weather2.csv  \n",
    "\n",
    "출처 :  1주차 예상문제 1 (이기적 스터디 카페 / 컴활,정보처리,빅분기)"
   ]
  },
  {
   "cell_type": "code",
   "execution_count": 1,
   "id": "eca72dd7",
   "metadata": {},
   "outputs": [],
   "source": [
    "import pandas as pd\n",
    "df = pd.read_csv(\"https://raw.githubusercontent.com/Datamanim/datarepo/main/weather/weather2.csv\")"
   ]
  },
  {
   "cell_type": "code",
   "execution_count": 2,
   "id": "036911a9",
   "metadata": {},
   "outputs": [
    {
     "data": {
      "text/html": [
       "<div>\n",
       "<style scoped>\n",
       "    .dataframe tbody tr th:only-of-type {\n",
       "        vertical-align: middle;\n",
       "    }\n",
       "\n",
       "    .dataframe tbody tr th {\n",
       "        vertical-align: top;\n",
       "    }\n",
       "\n",
       "    .dataframe thead th {\n",
       "        text-align: right;\n",
       "    }\n",
       "</style>\n",
       "<table border=\"1\" class=\"dataframe\">\n",
       "  <thead>\n",
       "    <tr style=\"text-align: right;\">\n",
       "      <th></th>\n",
       "      <th>time</th>\n",
       "      <th>이화동강수</th>\n",
       "      <th>이화동기온</th>\n",
       "      <th>수영동강수</th>\n",
       "      <th>수영동기온</th>\n",
       "    </tr>\n",
       "  </thead>\n",
       "  <tbody>\n",
       "    <tr>\n",
       "      <th>0</th>\n",
       "      <td>2020-01-01 00:00:00</td>\n",
       "      <td>0.1</td>\n",
       "      <td>-3.9</td>\n",
       "      <td>0.0</td>\n",
       "      <td>2.5</td>\n",
       "    </tr>\n",
       "    <tr>\n",
       "      <th>1</th>\n",
       "      <td>2020-01-01 01:00:00</td>\n",
       "      <td>0.0</td>\n",
       "      <td>-3.1</td>\n",
       "      <td>0.0</td>\n",
       "      <td>3.4</td>\n",
       "    </tr>\n",
       "    <tr>\n",
       "      <th>2</th>\n",
       "      <td>2020-01-01 02:00:00</td>\n",
       "      <td>0.0</td>\n",
       "      <td>-1.8</td>\n",
       "      <td>0.0</td>\n",
       "      <td>3.8</td>\n",
       "    </tr>\n",
       "    <tr>\n",
       "      <th>3</th>\n",
       "      <td>2020-01-01 03:00:00</td>\n",
       "      <td>0.0</td>\n",
       "      <td>-0.8</td>\n",
       "      <td>0.0</td>\n",
       "      <td>4.6</td>\n",
       "    </tr>\n",
       "    <tr>\n",
       "      <th>4</th>\n",
       "      <td>2020-01-01 04:00:00</td>\n",
       "      <td>0.0</td>\n",
       "      <td>-0.1</td>\n",
       "      <td>0.0</td>\n",
       "      <td>5.1</td>\n",
       "    </tr>\n",
       "    <tr>\n",
       "      <th>...</th>\n",
       "      <td>...</td>\n",
       "      <td>...</td>\n",
       "      <td>...</td>\n",
       "      <td>...</td>\n",
       "      <td>...</td>\n",
       "    </tr>\n",
       "    <tr>\n",
       "      <th>8779</th>\n",
       "      <td>2020-12-31 19:00:00</td>\n",
       "      <td>0.0</td>\n",
       "      <td>-9.5</td>\n",
       "      <td>0.0</td>\n",
       "      <td>-4.5</td>\n",
       "    </tr>\n",
       "    <tr>\n",
       "      <th>8780</th>\n",
       "      <td>2020-12-31 20:00:00</td>\n",
       "      <td>0.0</td>\n",
       "      <td>-9.5</td>\n",
       "      <td>0.0</td>\n",
       "      <td>-5.0</td>\n",
       "    </tr>\n",
       "    <tr>\n",
       "      <th>8781</th>\n",
       "      <td>2020-12-31 21:00:00</td>\n",
       "      <td>0.0</td>\n",
       "      <td>-9.3</td>\n",
       "      <td>0.0</td>\n",
       "      <td>-6.5</td>\n",
       "    </tr>\n",
       "    <tr>\n",
       "      <th>8782</th>\n",
       "      <td>2020-12-31 22:00:00</td>\n",
       "      <td>0.0</td>\n",
       "      <td>-9.2</td>\n",
       "      <td>0.0</td>\n",
       "      <td>-4.6</td>\n",
       "    </tr>\n",
       "    <tr>\n",
       "      <th>8783</th>\n",
       "      <td>2020-12-31 23:00:00</td>\n",
       "      <td>0.0</td>\n",
       "      <td>-7.8</td>\n",
       "      <td>0.0</td>\n",
       "      <td>-0.2</td>\n",
       "    </tr>\n",
       "  </tbody>\n",
       "</table>\n",
       "<p>8784 rows × 5 columns</p>\n",
       "</div>"
      ],
      "text/plain": [
       "                     time  이화동강수  이화동기온  수영동강수  수영동기온\n",
       "0     2020-01-01 00:00:00    0.1   -3.9       0.0       2.5\n",
       "1     2020-01-01 01:00:00    0.0   -3.1       0.0       3.4\n",
       "2     2020-01-01 02:00:00    0.0   -1.8       0.0       3.8\n",
       "3     2020-01-01 03:00:00    0.0   -0.8       0.0       4.6\n",
       "4     2020-01-01 04:00:00    0.0   -0.1       0.0       5.1\n",
       "...                   ...    ...    ...       ...       ...\n",
       "8779  2020-12-31 19:00:00    0.0   -9.5       0.0      -4.5\n",
       "8780  2020-12-31 20:00:00    0.0   -9.5       0.0      -5.0\n",
       "8781  2020-12-31 21:00:00    0.0   -9.3       0.0      -6.5\n",
       "8782  2020-12-31 22:00:00    0.0   -9.2       0.0      -4.6\n",
       "8783  2020-12-31 23:00:00    0.0   -7.8       0.0      -0.2\n",
       "\n",
       "[8784 rows x 5 columns]"
      ]
     },
     "execution_count": 2,
     "metadata": {},
     "output_type": "execute_result"
    }
   ],
   "source": [
    "df"
   ]
  },
  {
   "cell_type": "markdown",
   "id": "3e71f2e3",
   "metadata": {},
   "source": [
    "## Q1. 여름철(6월, 7월, 8월) 이화동이 수영동보다 높은 기온을 가진 시간대는 몇개인가?"
   ]
  },
  {
   "cell_type": "code",
   "execution_count": 3,
   "id": "43230130",
   "metadata": {},
   "outputs": [
    {
     "data": {
      "text/html": [
       "<div>\n",
       "<style scoped>\n",
       "    .dataframe tbody tr th:only-of-type {\n",
       "        vertical-align: middle;\n",
       "    }\n",
       "\n",
       "    .dataframe tbody tr th {\n",
       "        vertical-align: top;\n",
       "    }\n",
       "\n",
       "    .dataframe thead th {\n",
       "        text-align: right;\n",
       "    }\n",
       "</style>\n",
       "<table border=\"1\" class=\"dataframe\">\n",
       "  <thead>\n",
       "    <tr style=\"text-align: right;\">\n",
       "      <th></th>\n",
       "      <th>time</th>\n",
       "      <th>이화동강수</th>\n",
       "      <th>이화동기온</th>\n",
       "      <th>수영동강수</th>\n",
       "      <th>수영동기온</th>\n",
       "    </tr>\n",
       "  </thead>\n",
       "  <tbody>\n",
       "    <tr>\n",
       "      <th>0</th>\n",
       "      <td>2020-06-01 00:00:00</td>\n",
       "      <td>0.0</td>\n",
       "      <td>21.100000</td>\n",
       "      <td>0.0</td>\n",
       "      <td>24.799999</td>\n",
       "    </tr>\n",
       "    <tr>\n",
       "      <th>1</th>\n",
       "      <td>2020-06-01 01:00:00</td>\n",
       "      <td>0.0</td>\n",
       "      <td>22.400000</td>\n",
       "      <td>0.0</td>\n",
       "      <td>23.500000</td>\n",
       "    </tr>\n",
       "    <tr>\n",
       "      <th>2</th>\n",
       "      <td>2020-06-01 02:00:00</td>\n",
       "      <td>0.0</td>\n",
       "      <td>23.100000</td>\n",
       "      <td>0.0</td>\n",
       "      <td>23.100000</td>\n",
       "    </tr>\n",
       "    <tr>\n",
       "      <th>3</th>\n",
       "      <td>2020-06-01 03:00:00</td>\n",
       "      <td>0.0</td>\n",
       "      <td>23.100000</td>\n",
       "      <td>0.0</td>\n",
       "      <td>25.400000</td>\n",
       "    </tr>\n",
       "    <tr>\n",
       "      <th>4</th>\n",
       "      <td>2020-06-01 04:00:00</td>\n",
       "      <td>0.0</td>\n",
       "      <td>23.799999</td>\n",
       "      <td>0.0</td>\n",
       "      <td>24.500000</td>\n",
       "    </tr>\n",
       "    <tr>\n",
       "      <th>...</th>\n",
       "      <td>...</td>\n",
       "      <td>...</td>\n",
       "      <td>...</td>\n",
       "      <td>...</td>\n",
       "      <td>...</td>\n",
       "    </tr>\n",
       "    <tr>\n",
       "      <th>2203</th>\n",
       "      <td>2020-08-31 19:00:00</td>\n",
       "      <td>0.0</td>\n",
       "      <td>24.299999</td>\n",
       "      <td>0.0</td>\n",
       "      <td>24.100000</td>\n",
       "    </tr>\n",
       "    <tr>\n",
       "      <th>2204</th>\n",
       "      <td>2020-08-31 20:00:00</td>\n",
       "      <td>0.0</td>\n",
       "      <td>23.900000</td>\n",
       "      <td>0.0</td>\n",
       "      <td>24.200001</td>\n",
       "    </tr>\n",
       "    <tr>\n",
       "      <th>2205</th>\n",
       "      <td>2020-08-31 21:00:00</td>\n",
       "      <td>0.0</td>\n",
       "      <td>24.000000</td>\n",
       "      <td>0.0</td>\n",
       "      <td>24.600000</td>\n",
       "    </tr>\n",
       "    <tr>\n",
       "      <th>2206</th>\n",
       "      <td>2020-08-31 22:00:00</td>\n",
       "      <td>0.0</td>\n",
       "      <td>24.600000</td>\n",
       "      <td>0.0</td>\n",
       "      <td>24.900000</td>\n",
       "    </tr>\n",
       "    <tr>\n",
       "      <th>2207</th>\n",
       "      <td>2020-08-31 23:00:00</td>\n",
       "      <td>0.0</td>\n",
       "      <td>25.000000</td>\n",
       "      <td>0.0</td>\n",
       "      <td>26.900000</td>\n",
       "    </tr>\n",
       "  </tbody>\n",
       "</table>\n",
       "<p>2208 rows × 5 columns</p>\n",
       "</div>"
      ],
      "text/plain": [
       "                    time  이화동강수      이화동기온  수영동강수   수영동기온\n",
       "0    2020-06-01 00:00:00    0.0  21.100000       0.0  24.799999\n",
       "1    2020-06-01 01:00:00    0.0  22.400000       0.0  23.500000\n",
       "2    2020-06-01 02:00:00    0.0  23.100000       0.0  23.100000\n",
       "3    2020-06-01 03:00:00    0.0  23.100000       0.0  25.400000\n",
       "4    2020-06-01 04:00:00    0.0  23.799999       0.0  24.500000\n",
       "...                  ...    ...        ...       ...        ...\n",
       "2203 2020-08-31 19:00:00    0.0  24.299999       0.0  24.100000\n",
       "2204 2020-08-31 20:00:00    0.0  23.900000       0.0  24.200001\n",
       "2205 2020-08-31 21:00:00    0.0  24.000000       0.0  24.600000\n",
       "2206 2020-08-31 22:00:00    0.0  24.600000       0.0  24.900000\n",
       "2207 2020-08-31 23:00:00    0.0  25.000000       0.0  26.900000\n",
       "\n",
       "[2208 rows x 5 columns]"
      ]
     },
     "execution_count": 3,
     "metadata": {},
     "output_type": "execute_result"
    }
   ],
   "source": [
    "df['time'] = pd.to_datetime(df['time'])\n",
    "summer = df.loc[df['time'].dt.month.isin([6,7,8])].reset_index(drop=True)\n",
    "summer"
   ]
  },
  {
   "cell_type": "code",
   "execution_count": 4,
   "id": "11991c67",
   "metadata": {},
   "outputs": [
    {
     "data": {
      "text/plain": [
       "1415"
      ]
     },
     "execution_count": 4,
     "metadata": {},
     "output_type": "execute_result"
    }
   ],
   "source": [
    "answer = len(summer.loc[summer['이화동기온'] > summer['수영동기온']])\n",
    "answer"
   ]
  },
  {
   "cell_type": "markdown",
   "id": "7f89da7d",
   "metadata": {},
   "source": [
    "## Q2. 이화동과 수영동의 최대강수량의 시간대를 각각 구하여라"
   ]
  },
  {
   "cell_type": "markdown",
   "id": "7a712ee1",
   "metadata": {},
   "source": [
    "- 나의 풀이"
   ]
  },
  {
   "cell_type": "code",
   "execution_count": 5,
   "id": "b31129bb",
   "metadata": {},
   "outputs": [
    {
     "name": "stdout",
     "output_type": "stream",
     "text": [
      "2020-09-30T09:00:00.000000000\n"
     ]
    }
   ],
   "source": [
    "print(df[df['이화동강수'] == df['이화동강수'].max()]['time'].values[0])"
   ]
  },
  {
   "cell_type": "code",
   "execution_count": 6,
   "id": "b0f1dd52",
   "metadata": {},
   "outputs": [
    {
     "name": "stdout",
     "output_type": "stream",
     "text": [
      "2020-07-23T12:00:00.000000000\n"
     ]
    }
   ],
   "source": [
    "print(df[df['수영동강수'] == df['수영동강수'].max()]['time'].values[0])"
   ]
  },
  {
   "cell_type": "markdown",
   "id": "376c93e3",
   "metadata": {},
   "source": [
    "# 1주차 예상문제 2"
   ]
  },
  {
   "cell_type": "markdown",
   "id": "22bd9263",
   "metadata": {},
   "source": [
    "데이터 출처 : https://www.kaggle.com/shubh0799/churn-modelling 에서 변형\n",
    "\n",
    "데이터 설명 :  고객의 신상정보 데이터를 통한 회사 서비스 이탈 예측 (종속변수 : Exited)\n",
    "\n",
    "Data url : https://raw.githubusercontent.com/Datamanim/datarepo/main/churn/train.csv\n",
    "\n",
    "출처 : 1주차 예상문제 2 (이기적 스터디 카페 / 컴활,정보처리,빅분기)"
   ]
  },
  {
   "cell_type": "markdown",
   "id": "05226b2c",
   "metadata": {},
   "source": [
    "## Q1.  남성 이탈(Exited)이 가장 많은 국가(Geography)는 어디이고 이탈 인원은 몇명인가?"
   ]
  },
  {
   "cell_type": "code",
   "execution_count": 7,
   "id": "91623bda",
   "metadata": {},
   "outputs": [],
   "source": [
    "import pandas as pd\n",
    "df = pd.read_csv(\"https://raw.githubusercontent.com/Datamanim/datarepo/main/churn/train.csv\")"
   ]
  },
  {
   "cell_type": "code",
   "execution_count": 8,
   "id": "7db3c3d8",
   "metadata": {},
   "outputs": [
    {
     "data": {
      "text/html": [
       "<div>\n",
       "<style scoped>\n",
       "    .dataframe tbody tr th:only-of-type {\n",
       "        vertical-align: middle;\n",
       "    }\n",
       "\n",
       "    .dataframe tbody tr th {\n",
       "        vertical-align: top;\n",
       "    }\n",
       "\n",
       "    .dataframe thead th {\n",
       "        text-align: right;\n",
       "    }\n",
       "</style>\n",
       "<table border=\"1\" class=\"dataframe\">\n",
       "  <thead>\n",
       "    <tr style=\"text-align: right;\">\n",
       "      <th></th>\n",
       "      <th>RowNumber</th>\n",
       "      <th>CustomerId</th>\n",
       "      <th>Surname</th>\n",
       "      <th>CreditScore</th>\n",
       "      <th>Geography</th>\n",
       "      <th>Gender</th>\n",
       "      <th>Age</th>\n",
       "      <th>Tenure</th>\n",
       "      <th>Balance</th>\n",
       "      <th>NumOfProducts</th>\n",
       "      <th>HasCrCard</th>\n",
       "      <th>IsActiveMember</th>\n",
       "      <th>EstimatedSalary</th>\n",
       "      <th>Exited</th>\n",
       "    </tr>\n",
       "  </thead>\n",
       "  <tbody>\n",
       "    <tr>\n",
       "      <th>0</th>\n",
       "      <td>6842</td>\n",
       "      <td>15793491</td>\n",
       "      <td>Cherkasova</td>\n",
       "      <td>714</td>\n",
       "      <td>Germany</td>\n",
       "      <td>Male</td>\n",
       "      <td>26</td>\n",
       "      <td>3</td>\n",
       "      <td>119545.48</td>\n",
       "      <td>2</td>\n",
       "      <td>1</td>\n",
       "      <td>0</td>\n",
       "      <td>65482.94</td>\n",
       "      <td>0</td>\n",
       "    </tr>\n",
       "    <tr>\n",
       "      <th>1</th>\n",
       "      <td>8963</td>\n",
       "      <td>15607874</td>\n",
       "      <td>Keane</td>\n",
       "      <td>687</td>\n",
       "      <td>France</td>\n",
       "      <td>Male</td>\n",
       "      <td>38</td>\n",
       "      <td>0</td>\n",
       "      <td>144450.58</td>\n",
       "      <td>1</td>\n",
       "      <td>0</td>\n",
       "      <td>1</td>\n",
       "      <td>137276.83</td>\n",
       "      <td>0</td>\n",
       "    </tr>\n",
       "    <tr>\n",
       "      <th>2</th>\n",
       "      <td>7047</td>\n",
       "      <td>15737627</td>\n",
       "      <td>Rivero</td>\n",
       "      <td>589</td>\n",
       "      <td>Germany</td>\n",
       "      <td>Female</td>\n",
       "      <td>20</td>\n",
       "      <td>2</td>\n",
       "      <td>121093.29</td>\n",
       "      <td>2</td>\n",
       "      <td>1</td>\n",
       "      <td>0</td>\n",
       "      <td>3529.72</td>\n",
       "      <td>0</td>\n",
       "    </tr>\n",
       "    <tr>\n",
       "      <th>3</th>\n",
       "      <td>7503</td>\n",
       "      <td>15697844</td>\n",
       "      <td>Whitehouse</td>\n",
       "      <td>721</td>\n",
       "      <td>Spain</td>\n",
       "      <td>Female</td>\n",
       "      <td>32</td>\n",
       "      <td>10</td>\n",
       "      <td>0.00</td>\n",
       "      <td>1</td>\n",
       "      <td>1</td>\n",
       "      <td>0</td>\n",
       "      <td>136119.96</td>\n",
       "      <td>1</td>\n",
       "    </tr>\n",
       "    <tr>\n",
       "      <th>4</th>\n",
       "      <td>3439</td>\n",
       "      <td>15722404</td>\n",
       "      <td>Carpenter</td>\n",
       "      <td>445</td>\n",
       "      <td>France</td>\n",
       "      <td>Female</td>\n",
       "      <td>30</td>\n",
       "      <td>3</td>\n",
       "      <td>0.00</td>\n",
       "      <td>2</td>\n",
       "      <td>1</td>\n",
       "      <td>1</td>\n",
       "      <td>127939.19</td>\n",
       "      <td>0</td>\n",
       "    </tr>\n",
       "    <tr>\n",
       "      <th>...</th>\n",
       "      <td>...</td>\n",
       "      <td>...</td>\n",
       "      <td>...</td>\n",
       "      <td>...</td>\n",
       "      <td>...</td>\n",
       "      <td>...</td>\n",
       "      <td>...</td>\n",
       "      <td>...</td>\n",
       "      <td>...</td>\n",
       "      <td>...</td>\n",
       "      <td>...</td>\n",
       "      <td>...</td>\n",
       "      <td>...</td>\n",
       "      <td>...</td>\n",
       "    </tr>\n",
       "    <tr>\n",
       "      <th>7994</th>\n",
       "      <td>1607</td>\n",
       "      <td>15714080</td>\n",
       "      <td>Goliwe</td>\n",
       "      <td>566</td>\n",
       "      <td>Germany</td>\n",
       "      <td>Female</td>\n",
       "      <td>40</td>\n",
       "      <td>2</td>\n",
       "      <td>97001.36</td>\n",
       "      <td>2</td>\n",
       "      <td>1</td>\n",
       "      <td>0</td>\n",
       "      <td>154486.01</td>\n",
       "      <td>0</td>\n",
       "    </tr>\n",
       "    <tr>\n",
       "      <th>7995</th>\n",
       "      <td>7744</td>\n",
       "      <td>15741643</td>\n",
       "      <td>Chiang</td>\n",
       "      <td>777</td>\n",
       "      <td>Germany</td>\n",
       "      <td>Male</td>\n",
       "      <td>35</td>\n",
       "      <td>7</td>\n",
       "      <td>122917.69</td>\n",
       "      <td>1</td>\n",
       "      <td>1</td>\n",
       "      <td>1</td>\n",
       "      <td>76169.68</td>\n",
       "      <td>0</td>\n",
       "    </tr>\n",
       "    <tr>\n",
       "      <th>7996</th>\n",
       "      <td>4231</td>\n",
       "      <td>15566660</td>\n",
       "      <td>Cole</td>\n",
       "      <td>670</td>\n",
       "      <td>France</td>\n",
       "      <td>Female</td>\n",
       "      <td>41</td>\n",
       "      <td>10</td>\n",
       "      <td>0.00</td>\n",
       "      <td>3</td>\n",
       "      <td>1</td>\n",
       "      <td>0</td>\n",
       "      <td>81602.02</td>\n",
       "      <td>0</td>\n",
       "    </tr>\n",
       "    <tr>\n",
       "      <th>7997</th>\n",
       "      <td>8870</td>\n",
       "      <td>15733597</td>\n",
       "      <td>Y?an</td>\n",
       "      <td>669</td>\n",
       "      <td>France</td>\n",
       "      <td>Female</td>\n",
       "      <td>41</td>\n",
       "      <td>0</td>\n",
       "      <td>150219.41</td>\n",
       "      <td>2</td>\n",
       "      <td>0</td>\n",
       "      <td>0</td>\n",
       "      <td>107839.03</td>\n",
       "      <td>0</td>\n",
       "    </tr>\n",
       "    <tr>\n",
       "      <th>7998</th>\n",
       "      <td>523</td>\n",
       "      <td>15595766</td>\n",
       "      <td>Watts</td>\n",
       "      <td>527</td>\n",
       "      <td>Spain</td>\n",
       "      <td>Male</td>\n",
       "      <td>37</td>\n",
       "      <td>5</td>\n",
       "      <td>93722.73</td>\n",
       "      <td>2</td>\n",
       "      <td>1</td>\n",
       "      <td>1</td>\n",
       "      <td>139093.73</td>\n",
       "      <td>0</td>\n",
       "    </tr>\n",
       "  </tbody>\n",
       "</table>\n",
       "<p>7999 rows × 14 columns</p>\n",
       "</div>"
      ],
      "text/plain": [
       "      RowNumber  CustomerId     Surname  CreditScore Geography  Gender  Age  \\\n",
       "0          6842    15793491  Cherkasova          714   Germany    Male   26   \n",
       "1          8963    15607874       Keane          687    France    Male   38   \n",
       "2          7047    15737627      Rivero          589   Germany  Female   20   \n",
       "3          7503    15697844  Whitehouse          721     Spain  Female   32   \n",
       "4          3439    15722404   Carpenter          445    France  Female   30   \n",
       "...         ...         ...         ...          ...       ...     ...  ...   \n",
       "7994       1607    15714080      Goliwe          566   Germany  Female   40   \n",
       "7995       7744    15741643      Chiang          777   Germany    Male   35   \n",
       "7996       4231    15566660        Cole          670    France  Female   41   \n",
       "7997       8870    15733597        Y?an          669    France  Female   41   \n",
       "7998        523    15595766       Watts          527     Spain    Male   37   \n",
       "\n",
       "      Tenure    Balance  NumOfProducts  HasCrCard  IsActiveMember  \\\n",
       "0          3  119545.48              2          1               0   \n",
       "1          0  144450.58              1          0               1   \n",
       "2          2  121093.29              2          1               0   \n",
       "3         10       0.00              1          1               0   \n",
       "4          3       0.00              2          1               1   \n",
       "...      ...        ...            ...        ...             ...   \n",
       "7994       2   97001.36              2          1               0   \n",
       "7995       7  122917.69              1          1               1   \n",
       "7996      10       0.00              3          1               0   \n",
       "7997       0  150219.41              2          0               0   \n",
       "7998       5   93722.73              2          1               1   \n",
       "\n",
       "      EstimatedSalary  Exited  \n",
       "0            65482.94       0  \n",
       "1           137276.83       0  \n",
       "2             3529.72       0  \n",
       "3           136119.96       1  \n",
       "4           127939.19       0  \n",
       "...               ...     ...  \n",
       "7994        154486.01       0  \n",
       "7995         76169.68       0  \n",
       "7996         81602.02       0  \n",
       "7997        107839.03       0  \n",
       "7998        139093.73       0  \n",
       "\n",
       "[7999 rows x 14 columns]"
      ]
     },
     "execution_count": 8,
     "metadata": {},
     "output_type": "execute_result"
    }
   ],
   "source": [
    "df"
   ]
  },
  {
   "cell_type": "code",
   "execution_count": 9,
   "id": "0a7ebf0a",
   "metadata": {
    "scrolled": true
   },
   "outputs": [
    {
     "data": {
      "text/plain": [
       "Geography\n",
       "France     285\n",
       "Germany    287\n",
       "Spain      137\n",
       "Name: Exited, dtype: int64"
      ]
     },
     "execution_count": 9,
     "metadata": {},
     "output_type": "execute_result"
    }
   ],
   "source": [
    "df[df['Gender'] == 'Male'].groupby(['Geography']).sum()['Exited']"
   ]
  },
  {
   "cell_type": "markdown",
   "id": "d2b35085",
   "metadata": {},
   "source": [
    "=> Germany, 287명"
   ]
  },
  {
   "cell_type": "markdown",
   "id": "015ad9fb",
   "metadata": {},
   "source": [
    "## Q2. 카드를 소유(HasCrCard ==1)하고 있으면서 활성멤버(IsActiveMember ==1) 인 고객들의 평균나이는? "
   ]
  },
  {
   "cell_type": "code",
   "execution_count": 10,
   "id": "9952bb70",
   "metadata": {},
   "outputs": [
    {
     "data": {
      "text/plain": [
       "39.61019283746556"
      ]
     },
     "execution_count": 10,
     "metadata": {},
     "output_type": "execute_result"
    }
   ],
   "source": [
    "df[(df['HasCrCard'] == 1) & (df['IsActiveMember'] == 1)]['Age'].mean()"
   ]
  },
  {
   "cell_type": "markdown",
   "id": "9833b39f",
   "metadata": {},
   "source": [
    "## Balance 값이 중간값 이상을 가지는 고객들의 CreditScore의 표준편차를 구하여라"
   ]
  },
  {
   "cell_type": "code",
   "execution_count": 11,
   "id": "2461c5a7",
   "metadata": {},
   "outputs": [
    {
     "data": {
      "text/plain": [
       "97.29451567120783"
      ]
     },
     "execution_count": 11,
     "metadata": {},
     "output_type": "execute_result"
    }
   ],
   "source": [
    "df[df['Balance'] >= df['Balance'].median()]['CreditScore'].std()"
   ]
  }
 ],
 "metadata": {
  "kernelspec": {
   "display_name": "Python 3",
   "language": "python",
   "name": "python3"
  },
  "language_info": {
   "codemirror_mode": {
    "name": "ipython",
    "version": 3
   },
   "file_extension": ".py",
   "mimetype": "text/x-python",
   "name": "python",
   "nbconvert_exporter": "python",
   "pygments_lexer": "ipython3",
   "version": "3.8.8"
  }
 },
 "nbformat": 4,
 "nbformat_minor": 5
}
