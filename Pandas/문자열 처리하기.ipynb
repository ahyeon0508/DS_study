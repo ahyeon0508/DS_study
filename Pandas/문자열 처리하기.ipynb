{
 "cells": [
  {
   "cell_type": "markdown",
   "id": "direct-request",
   "metadata": {},
   "source": [
    "📖 참고 : Do it! 데이터 분석을 위한 판다스 입문"
   ]
  },
  {
   "cell_type": "markdown",
   "id": "virgin-figure",
   "metadata": {},
   "source": [
    "# 문자열 처리하기"
   ]
  },
  {
   "cell_type": "markdown",
   "id": "nonprofit-resolution",
   "metadata": {},
   "source": [
    "## 1. 문자열 포맷하기"
   ]
  },
  {
   "cell_type": "code",
   "execution_count": 1,
   "id": "arbitrary-hardware",
   "metadata": {},
   "outputs": [
    {
     "name": "stdout",
     "output_type": "stream",
     "text": [
      "It's just a flesh wound\n"
     ]
    }
   ],
   "source": [
    "var = 'flesh wound'\n",
    "s = \"It's just a {}\"\n",
    "\n",
    "print(s.format(var))"
   ]
  },
  {
   "cell_type": "code",
   "execution_count": 2,
   "id": "promotional-conspiracy",
   "metadata": {},
   "outputs": [
    {
     "name": "stdout",
     "output_type": "stream",
     "text": [
      "Some digits of e: 2.72\n"
     ]
    }
   ],
   "source": [
    "print('Some digits of %(cont)s: %(value).2f' % {'cont': 'e', 'value': 2.718})"
   ]
  },
  {
   "cell_type": "markdown",
   "id": "pacific-statistics",
   "metadata": {},
   "source": [
    "## 2. 정규식"
   ]
  },
  {
   "cell_type": "code",
   "execution_count": 3,
   "id": "thick-weekend",
   "metadata": {},
   "outputs": [
    {
     "name": "stdout",
     "output_type": "stream",
     "text": [
      "안녕하세여 \n"
     ]
    }
   ],
   "source": [
    "import re\n",
    "text = '안녕하세여! 1234'\n",
    "\n",
    "hangul = re.compile('[^ ㄱ-ㅣ가-힣]+')\n",
    "print(hangul.sub('', text))"
   ]
  }
 ],
 "metadata": {
  "kernelspec": {
   "display_name": "Python 3",
   "language": "python",
   "name": "python3"
  },
  "language_info": {
   "codemirror_mode": {
    "name": "ipython",
    "version": 3
   },
   "file_extension": ".py",
   "mimetype": "text/x-python",
   "name": "python",
   "nbconvert_exporter": "python",
   "pygments_lexer": "ipython3",
   "version": "3.7.4"
  }
 },
 "nbformat": 4,
 "nbformat_minor": 5
}
